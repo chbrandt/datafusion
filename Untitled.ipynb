{
 "cells": [
  {
   "cell_type": "code",
   "execution_count": 1,
   "metadata": {},
   "outputs": [],
   "source": [
    "from dflib import geopack"
   ]
  },
  {
   "cell_type": "code",
   "execution_count": 5,
   "metadata": {},
   "outputs": [
    {
     "data": {
      "text/plain": [
       "<module 'dflib.geopack' from '/home/chbrandt/repos/PLANMAP/datafusion/dflib/geopack.py'>"
      ]
     },
     "execution_count": 5,
     "metadata": {},
     "output_type": "execute_result"
    }
   ],
   "source": [
    "from importlib import reload\n",
    "reload(geopack)"
   ]
  },
  {
   "cell_type": "code",
   "execution_count": 6,
   "metadata": {},
   "outputs": [],
   "source": [
    "#raster_filename = 'https://data.planmap.eu/pub/mercury/PM-MER-MS-H05_5cc_01/raster/PM-MER-MS-H05_5cc_01_basemap_mosaic.tif'\n",
    "vector_filename = 'https://data.planmap.eu/pub/mercury/PM-MER-MS-H05_5cc_01/vector/PM-MER-MS-H05_5cc_01.gpkg'"
   ]
  },
  {
   "cell_type": "code",
   "execution_count": 7,
   "metadata": {},
   "outputs": [
    {
     "name": "stderr",
     "output_type": "stream",
     "text": [
      "INFO: File named '/tmp/tmpq2f7qkrk/PM-MER-MS-H05_5cc_01.gpkg', sized 43376640 bytes, downloaded succesfully.\n",
      "INFO: Failed to auto identify EPSG: 7\n",
      "INFO: Failed to auto identify EPSG: 7\n",
      "INFO: Failed to auto identify EPSG: 7\n",
      "INFO: Failed to auto identify EPSG: 7\n",
      "INFO: Failed to auto identify EPSG: 7\n",
      "INFO: Failed to auto identify EPSG: 7\n"
     ]
    }
   ],
   "source": [
    "ds = geopack.GeoPack(file=vector_filename)"
   ]
  },
  {
   "cell_type": "code",
   "execution_count": 8,
   "metadata": {},
   "outputs": [
    {
     "data": {
      "text/plain": [
       "['Linear Features',\n",
       " 'Outline',\n",
       " 'Contacts',\n",
       " 'Surface Features',\n",
       " 'Geological Units 5 Classes',\n",
       " 'Nomenclature',\n",
       " 'layer_styles']"
      ]
     },
     "execution_count": 8,
     "metadata": {},
     "output_type": "execute_result"
    }
   ],
   "source": [
    "ds.list"
   ]
  },
  {
   "cell_type": "code",
   "execution_count": null,
   "metadata": {},
   "outputs": [],
   "source": []
  }
 ],
 "metadata": {
  "kernelspec": {
   "display_name": "Python 3",
   "language": "python",
   "name": "python3"
  },
  "language_info": {
   "codemirror_mode": {
    "name": "ipython",
    "version": 3
   },
   "file_extension": ".py",
   "mimetype": "text/x-python",
   "name": "python",
   "nbconvert_exporter": "python",
   "pygments_lexer": "ipython3",
   "version": "3.8.0"
  },
  "toc": {
   "base_numbering": 1,
   "nav_menu": {},
   "number_sections": false,
   "sideBar": false,
   "skip_h1_title": false,
   "title_cell": "Table of Contents",
   "title_sidebar": "Contents",
   "toc_cell": false,
   "toc_position": {},
   "toc_section_display": false,
   "toc_window_display": false
  }
 },
 "nbformat": 4,
 "nbformat_minor": 4
}
